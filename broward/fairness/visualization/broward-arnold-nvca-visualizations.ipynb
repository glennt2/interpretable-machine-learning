{
 "cells": [
  {
   "cell_type": "code",
   "execution_count": 3,
   "metadata": {},
   "outputs": [
    {
     "name": "stdout",
     "output_type": "stream",
     "text": [
      "Current working directory is now:  D:\\\n"
     ]
    },
    {
     "ename": "ModuleNotFoundError",
     "evalue": "No module named 'utils'",
     "output_type": "error",
     "traceback": [
      "\u001B[1;31m---------------------------------------------------------------------------\u001B[0m",
      "\u001B[1;31mModuleNotFoundError\u001B[0m                       Traceback (most recent call last)",
      "\u001B[1;32m~\\AppData\\Local\\Temp/ipykernel_18824/2711939201.py\u001B[0m in \u001B[0;36m<module>\u001B[1;34m\u001B[0m\n\u001B[0;32m      8\u001B[0m \u001B[1;32mimport\u001B[0m \u001B[0mmatplotlib\u001B[0m\u001B[1;33m.\u001B[0m\u001B[0mpyplot\u001B[0m \u001B[1;32mas\u001B[0m \u001B[0mplt\u001B[0m\u001B[1;33m\u001B[0m\u001B[1;33m\u001B[0m\u001B[0m\n\u001B[0;32m      9\u001B[0m \u001B[1;33m\u001B[0m\u001B[0m\n\u001B[1;32m---> 10\u001B[1;33m \u001B[1;32mfrom\u001B[0m \u001B[0mutils\u001B[0m\u001B[1;33m.\u001B[0m\u001B[0mload_settings\u001B[0m \u001B[1;32mimport\u001B[0m \u001B[0mload_settings\u001B[0m\u001B[1;33m\u001B[0m\u001B[1;33m\u001B[0m\u001B[0m\n\u001B[0m\u001B[0;32m     11\u001B[0m \u001B[1;32mfrom\u001B[0m \u001B[0mutils\u001B[0m\u001B[1;33m.\u001B[0m\u001B[0mfairness_functions\u001B[0m \u001B[1;32mimport\u001B[0m \u001B[0mcompute_calibration_discrete_score\u001B[0m\u001B[1;33m,\u001B[0m \u001B[0mcompute_eq_odds_arnold_nvca\u001B[0m\u001B[1;33m\u001B[0m\u001B[1;33m\u001B[0m\u001B[0m\n\u001B[0;32m     12\u001B[0m \u001B[1;32mfrom\u001B[0m \u001B[0mutils\u001B[0m\u001B[1;33m.\u001B[0m\u001B[0mplotting_helpers\u001B[0m \u001B[1;32mimport\u001B[0m \u001B[0msafe_save_plt\u001B[0m\u001B[1;33m\u001B[0m\u001B[1;33m\u001B[0m\u001B[0m\n",
      "\u001B[1;31mModuleNotFoundError\u001B[0m: No module named 'utils'"
     ]
    }
   ],
   "source": [
    "import os \n",
    "os.chdir('../../')\n",
    "print(\"Current working directory is now: \", os.getcwd())\n",
    "\n",
    "import numpy as np \n",
    "import pandas as pd \n",
    "\n",
    "import matplotlib.pyplot as plt \n",
    "\n",
    "from utils.load_settings import load_settings\n",
    "from utils.fairness_functions import compute_calibration_discrete_score, compute_eq_odds_arnold_nvca\n",
    "from utils.plotting_helpers import safe_save_plt\n",
    "from utils.plot_fairness import plot_binary_calib_arnold_nvca, plot_eq_odds_arnold_nvca\n",
    "\n",
    "%matplotlib inline\n",
    "# load parameters\n",
    "settings = load_settings()"
   ]
  },
  {
   "cell_type": "code",
   "execution_count": null,
   "metadata": {},
   "outputs": [],
   "source": [
    "# read in data \n",
    "broward_data = pd.read_csv(\"broward/data/broward_data.csv\")\n",
    "broward_arnold_compas = pd.read_csv(\"broward/data/broward_arnold.csv\")\n",
    "\n",
    "for decoder_name, decoder_dict in settings['decoders'].items():\n",
    "    broward_arnold_compas = broward_arnold_compas.replace({decoder_name: decoder_dict})\n",
    "\n",
    "broward_arnold_compas.rename(columns=settings['decoders']['label'], inplace=True)\n",
    "\n",
    "broward_arnold_compas = broward_arnold_compas[['person_id', 'screening_date',\n",
    "                                               'arnold_nvca', \n",
    "                                               'sex', 'race',\n",
    "                                               'violent_two_year']]\n",
    "\n",
    "# wide to long on sensitive attrs\n",
    "broward_long = (pd.melt(broward_arnold_compas, id_vars =['person_id', 'screening_date'], value_vars=['sex', 'race'])\n",
    "                         .rename({'variable': 'Attribute',\n",
    "                                  'value': 'Attribute Value'},\n",
    "                                   axis=1))\n",
    "broward_long = broward_long.merge(broward_arnold_compas.drop(columns=['sex', 'race']),\n",
    "                                                    on = ['person_id', 'screening_date'],\n",
    "                                                    how = 'left')\n",
    "broward_long.head()"
   ]
  },
  {
   "cell_type": "markdown",
   "metadata": {},
   "source": [
    "# Arnold NVCA Visualizations\n",
    "\n",
    "Since the Arnold NVCA score is binary, we generate bar charts rather than line graphs to display calibration, BPC, BNC. "
   ]
  },
  {
   "cell_type": "markdown",
   "metadata": {},
   "source": [
    "## Calibration is equivalent to conditional use accuracy equality"
   ]
  },
  {
   "cell_type": "markdown",
   "metadata": {},
   "source": [
    "$P(Y = 1 | d(x) = 1 , \\textit{gender = male}) \n",
    "    = P( Y = 1  | d(x) = 1, \\textit{gender = female}), \\text{(PPV)}$\n",
    "$P(Y = 1 | d(x) = 0 , \\textit{gender = male}) \n",
    "    = P( Y = 1  | d(x) = 0, \\textit{gender = female}). \\text{1 - (NPV)}$\n",
    "    "
   ]
  },
  {
   "cell_type": "code",
   "execution_count": null,
   "metadata": {},
   "outputs": [],
   "source": [
    "# arnold ncva \n",
    "calib, calib_grps = compute_calibration_discrete_score(long_df=broward_long, \n",
    "                                                        problem_name=\"violent_two_year\", \n",
    "                                                        score_name=\"arnold_nvca\")\n",
    "\n",
    "plot_binary_calib_arnold_nvca(calib=calib, \n",
    "                              calib_grps=calib_grps,\n",
    "                              region_name=\"Broward\",\n",
    "                              save_path='broward/logs/fairness_results/calibration_visualizations/arnold/arnold_nvca_calib.pdf')"
   ]
  },
  {
   "cell_type": "markdown",
   "metadata": {},
   "source": [
    "## BPC/BNC is equivalent to equalized odds"
   ]
  },
  {
   "cell_type": "markdown",
   "metadata": {},
   "source": [
    "$P(d(x) = 1 | Y = 1, \\textit{gender = male}) \n",
    "    = P(d(x) = 1 | Y = 1 , \\textit{gender = female}), \\text{1 - (FNR)}$\n",
    "\n",
    "$P(d(x) = 1 | Y = 0, \\textit{gender = male}) \n",
    "    = P(d(x) = 1 | Y = 0 , \\textit{gender = female}). \\text{(FPR)}$    "
   ]
  },
  {
   "cell_type": "code",
   "execution_count": null,
   "metadata": {},
   "outputs": [],
   "source": [
    "eq_odds, eq_odds_grps = compute_eq_odds_arnold_nvca(long_df=broward_long)\n",
    "\n",
    "plot_eq_odds_arnold_nvca(eq_odds=eq_odds, \n",
    "                         eq_odds_grps=eq_odds_grps,\n",
    "                         region_name=\"Broward\",\n",
    "                         save_path='broward/logs/fairness_results/equalized_odds_visualizations/arnold_nvca_eq_odds.pdf')"
   ]
  }
 ],
 "metadata": {
  "kernelspec": {
   "display_name": "Python 3 (ipykernel)",
   "language": "python",
   "name": "python3"
  },
  "language_info": {
   "codemirror_mode": {
    "name": "ipython",
    "version": 3
   },
   "file_extension": ".py",
   "mimetype": "text/x-python",
   "name": "python",
   "nbconvert_exporter": "python",
   "pygments_lexer": "ipython3",
   "version": "3.7.12"
  }
 },
 "nbformat": 4,
 "nbformat_minor": 2
}